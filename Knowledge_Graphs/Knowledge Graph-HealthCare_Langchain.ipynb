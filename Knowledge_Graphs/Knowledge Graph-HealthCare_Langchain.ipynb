{
  "nbformat": 4,
  "nbformat_minor": 0,
  "metadata": {
    "colab": {
      "provenance": []
    },
    "kernelspec": {
      "name": "python3",
      "display_name": "Python 3"
    },
    "language_info": {
      "name": "python"
    }
  },
  "cells": [
    {
      "cell_type": "code",
      "execution_count": null,
      "metadata": {
        "colab": {
          "base_uri": "https://localhost:8080/"
        },
        "id": "hc7CirobA2oK",
        "outputId": "71d7be49-7b4c-41e9-80cb-df892122ae53"
      },
      "outputs": [
        {
          "output_type": "stream",
          "name": "stdout",
          "text": [
            "\u001b[2K     \u001b[90m━━━━━━━━━━━━━━━━━━━━━━━━━━━━━━━━━━━━━━━━\u001b[0m \u001b[32m1.0/1.0 MB\u001b[0m \u001b[31m8.4 MB/s\u001b[0m eta \u001b[36m0:00:00\u001b[0m\n",
            "\u001b[2K     \u001b[90m━━━━━━━━━━━━━━━━━━━━━━━━━━━━━━━━━━━━━━━━\u001b[0m \u001b[32m2.0/2.0 MB\u001b[0m \u001b[31m17.6 MB/s\u001b[0m eta \u001b[36m0:00:00\u001b[0m\n",
            "\u001b[2K     \u001b[90m━━━━━━━━━━━━━━━━━━━━━━━━━━━━━━━━━━━━━━━━\u001b[0m \u001b[32m199.4/199.4 kB\u001b[0m \u001b[31m13.1 MB/s\u001b[0m eta \u001b[36m0:00:00\u001b[0m\n",
            "\u001b[2K     \u001b[90m━━━━━━━━━━━━━━━━━━━━━━━━━━━━━━━━━━━━━━━━\u001b[0m \u001b[32m203.0/203.0 kB\u001b[0m \u001b[31m17.2 MB/s\u001b[0m eta \u001b[36m0:00:00\u001b[0m\n",
            "\u001b[?25h  Installing build dependencies ... \u001b[?25l\u001b[?25hdone\n",
            "  Getting requirements to build wheel ... \u001b[?25l\u001b[?25hdone\n",
            "  Installing backend dependencies ... \u001b[?25l\u001b[?25hdone\n",
            "  Preparing metadata (pyproject.toml) ... \u001b[?25l\u001b[?25hdone\n",
            "\u001b[2K     \u001b[90m━━━━━━━━━━━━━━━━━━━━━━━━━━━━━━━━━━━━━━━━\u001b[0m \u001b[32m302.9/302.9 kB\u001b[0m \u001b[31m20.4 MB/s\u001b[0m eta \u001b[36m0:00:00\u001b[0m\n",
            "\u001b[2K     \u001b[90m━━━━━━━━━━━━━━━━━━━━━━━━━━━━━━━━━━━━━━━━\u001b[0m \u001b[32m121.0/121.0 kB\u001b[0m \u001b[31m13.1 MB/s\u001b[0m eta \u001b[36m0:00:00\u001b[0m\n",
            "\u001b[2K     \u001b[90m━━━━━━━━━━━━━━━━━━━━━━━━━━━━━━━━━━━━━━━━\u001b[0m \u001b[32m320.6/320.6 kB\u001b[0m \u001b[31m19.5 MB/s\u001b[0m eta \u001b[36m0:00:00\u001b[0m\n",
            "\u001b[2K     \u001b[90m━━━━━━━━━━━━━━━━━━━━━━━━━━━━━━━━━━━━━━━━\u001b[0m \u001b[32m1.1/1.1 MB\u001b[0m \u001b[31m21.8 MB/s\u001b[0m eta \u001b[36m0:00:00\u001b[0m\n",
            "\u001b[2K     \u001b[90m━━━━━━━━━━━━━━━━━━━━━━━━━━━━━━━━━━━━━━━━\u001b[0m \u001b[32m49.3/49.3 kB\u001b[0m \u001b[31m5.2 MB/s\u001b[0m eta \u001b[36m0:00:00\u001b[0m\n",
            "\u001b[2K     \u001b[90m━━━━━━━━━━━━━━━━━━━━━━━━━━━━━━━━━━━━━━━━\u001b[0m \u001b[32m53.0/53.0 kB\u001b[0m \u001b[31m5.4 MB/s\u001b[0m eta \u001b[36m0:00:00\u001b[0m\n",
            "\u001b[2K     \u001b[90m━━━━━━━━━━━━━━━━━━━━━━━━━━━━━━━━━━━━━━━━\u001b[0m \u001b[32m142.5/142.5 kB\u001b[0m \u001b[31m12.2 MB/s\u001b[0m eta \u001b[36m0:00:00\u001b[0m\n",
            "\u001b[2K     \u001b[90m━━━━━━━━━━━━━━━━━━━━━━━━━━━━━━━━━━━━━━━━\u001b[0m \u001b[32m75.6/75.6 kB\u001b[0m \u001b[31m1.3 MB/s\u001b[0m eta \u001b[36m0:00:00\u001b[0m\n",
            "\u001b[2K     \u001b[90m━━━━━━━━━━━━━━━━━━━━━━━━━━━━━━━━━━━━━━━━\u001b[0m \u001b[32m77.9/77.9 kB\u001b[0m \u001b[31m6.3 MB/s\u001b[0m eta \u001b[36m0:00:00\u001b[0m\n",
            "\u001b[2K     \u001b[90m━━━━━━━━━━━━━━━━━━━━━━━━━━━━━━━━━━━━━━━━\u001b[0m \u001b[32m58.3/58.3 kB\u001b[0m \u001b[31m5.3 MB/s\u001b[0m eta \u001b[36m0:00:00\u001b[0m\n",
            "\u001b[?25h  Building wheel for neo4j (pyproject.toml) ... \u001b[?25l\u001b[?25hdone\n"
          ]
        }
      ],
      "source": [
        "%pip install --upgrade --quiet  langchain langchain-community langchain-openai langchain-experimental neo4j"
      ]
    },
    {
      "cell_type": "code",
      "source": [
        "import getpass\n",
        "import os\n",
        "from langchain_community.graphs import Neo4jGraph\n",
        "from langchain_experimental.graph_transformers import LLMGraphTransformer\n",
        "from langchain_openai import ChatOpenAI\n",
        "from langchain_core.documents import Document\n",
        "from langchain.chains import GraphCypherQAChain\n",
        "from langchain_openai import ChatOpenAI\n",
        "\n",
        "#Openai paid\n",
        "os.environ[\"OPENAI_API_KEY\"] = \"sk-proj-WpR\"\n",
        "# new san\n",
        "os.environ[\"NEO4J_URI\"] = \"neo4j+s://33b.databases.neo4j.io\"\n",
        "os.environ[\"NEO4J_USERNAME\"] = \"neo4j\"\n",
        "os.environ[\"NEO4J_PASSWORD\"] = \"Password\"\n",
        "\n"
      ],
      "metadata": {
        "id": "T9d8nkA9A7yp"
      },
      "execution_count": null,
      "outputs": []
    },
    {
      "cell_type": "markdown",
      "source": [
        "# LLMGraphTransformer"
      ],
      "metadata": {
        "id": "5tAbG0kEBk44"
      }
    },
    {
      "cell_type": "code",
      "source": [
        "llm = ChatOpenAI(temperature=0, model_name=\"gpt-3.5-turbo-0125\")\n",
        "#llm = ChatOpenAI(temperature=0, model_name=\"gpt-4-turbo-2024-04-09\")\n",
        "\n",
        "llm_transformer = LLMGraphTransformer(llm=llm)"
      ],
      "metadata": {
        "id": "OD73wzUiBlQj"
      },
      "execution_count": null,
      "outputs": []
    },
    {
      "cell_type": "markdown",
      "source": [
        "# Load data"
      ],
      "metadata": {
        "id": "qSt3BbZaBl1Y"
      }
    },
    {
      "cell_type": "code",
      "source": [
        "text= \"\"\"\n",
        "Hyperthyroidism\n",
        "Main article: Hyperthyroidism\n",
        "Excessive production of the thyroid hormones is called hyperthyroidism. Causes include Graves' disease, toxic multinodular goitre, solitary thyroid adenoma, inflammation, and a pituitary adenoma which secretes excess TSH. Another cause is excess iodine availability, either from excess ingestion, induced by the drug amiodarone, or following iodinated contrast imaging.[46][47]\n",
        "Hyperthyroidism often causes a variety of non-specific symptoms including weight loss, increased appetite, insomnia, decreased tolerance of heat, tremor, palpitations, anxiety and nervousness. In some cases it can cause chest pain, diarrhoea, hair loss and muscle weakness.[48] Such symptoms may be managed temporarily with drugs such as beta blockers.[49]\n",
        "Long-term management of hyperthyroidism may include drugs that suppress thyroid function such as propylthiouracil, carbimazole and methimazole.[50] Alternatively, radioactive iodine-131 can be used to destroy thyroid tissue: radioactive iodine is selectively taken up by thyroid cells, which over time destroys them. The chosen first-line treatment will depend on the individual and on the country where being treated. Surgery to remove the thyroid can sometimes be performed as a transoral thyroidectomy, a minimally invasive procedure.[51] Surgery does however carry a risk of damage to the parathyroid glands and the recurrent laryngeal nerve, which innervates the vocal cords. If the entire thyroid gland is removed, hypothyroidism will inevitably result, and thyroid hormone substitutes will be needed.[52][49]\n",
        "\"\"\""
      ],
      "metadata": {
        "id": "LXQKrhq_wqcH"
      },
      "execution_count": null,
      "outputs": []
    },
    {
      "cell_type": "code",
      "source": [
        "documents = [Document(page_content=text)]\n",
        "llm_transformer_props = LLMGraphTransformer(\n",
        "    llm=llm,\n",
        "    allowed_nodes=[\"MedicalCondition\", \"Symptom\", \"Cause\", \"Treatment\"],\n",
        "    allowed_relationships=[\"CAUSES\", \"HAS_SYMPTOM\", \"HAS_TREATMENT\"],\n",
        ")\n",
        "graph_documents_props = llm_transformer_props.convert_to_graph_documents(documents)\n",
        "print(f\"Nodes:{graph_documents_props[0].nodes}\")\n",
        "print(f\"Relationships:{graph_documents_props[0].relationships}\")"
      ],
      "metadata": {
        "colab": {
          "base_uri": "https://localhost:8080/"
        },
        "id": "bBRiCb1q3VZ7",
        "outputId": "71afba63-f9e0-4781-9359-cec861745589"
      },
      "execution_count": null,
      "outputs": [
        {
          "output_type": "stream",
          "name": "stdout",
          "text": [
            "Nodes:[Node(id='Hyperthyroidism', type='Medicalcondition'), Node(id=\"Graves' Disease\", type='Cause'), Node(id='Toxic Multinodular Goitre', type='Cause'), Node(id='Solitary Thyroid Adenoma', type='Cause'), Node(id='Inflammation', type='Cause'), Node(id='Pituitary Adenoma', type='Cause'), Node(id='Excess Iodine Availability', type='Cause'), Node(id='Amiodarone', type='Cause'), Node(id='Iodinated Contrast Imaging', type='Cause'), Node(id='Weight Loss', type='Symptom'), Node(id='Increased Appetite', type='Symptom'), Node(id='Insomnia', type='Symptom'), Node(id='Decreased Tolerance Of Heat', type='Symptom'), Node(id='Tremor', type='Symptom'), Node(id='Palpitations', type='Symptom'), Node(id='Anxiety', type='Symptom'), Node(id='Nervousness', type='Symptom'), Node(id='Chest Pain', type='Symptom'), Node(id='Diarrhoea', type='Symptom'), Node(id='Hair Loss', type='Symptom'), Node(id='Muscle Weakness', type='Symptom'), Node(id='Beta Blockers', type='Treatment'), Node(id='Propylthiouracil', type='Treatment'), Node(id='Carbimazole', type='Treatment'), Node(id='Methimazole', type='Treatment'), Node(id='Radioactive Iodine-131', type='Treatment'), Node(id='Thyroid Tissue', type='Medicalcondition'), Node(id='Thyroid Cells', type='Medicalcondition'), Node(id='Surgery', type='Treatment'), Node(id='Transoral Thyroidectomy', type='Treatment'), Node(id='Parathyroid Glands', type='Medicalcondition'), Node(id='Recurrent Laryngeal Nerve', type='Medicalcondition'), Node(id='Hypothyroidism', type='Medicalcondition'), Node(id='Thyroid Hormone Substitutes', type='Treatment')]\n",
            "Relationships:[Relationship(source=Node(id='Hyperthyroidism', type='Medicalcondition'), target=Node(id=\"Graves' Disease\", type='Cause'), type='CAUSES'), Relationship(source=Node(id='Hyperthyroidism', type='Medicalcondition'), target=Node(id='Toxic Multinodular Goitre', type='Cause'), type='CAUSES'), Relationship(source=Node(id='Hyperthyroidism', type='Medicalcondition'), target=Node(id='Solitary Thyroid Adenoma', type='Cause'), type='CAUSES'), Relationship(source=Node(id='Hyperthyroidism', type='Medicalcondition'), target=Node(id='Inflammation', type='Cause'), type='CAUSES'), Relationship(source=Node(id='Hyperthyroidism', type='Medicalcondition'), target=Node(id='Pituitary Adenoma', type='Cause'), type='CAUSES'), Relationship(source=Node(id='Hyperthyroidism', type='Medicalcondition'), target=Node(id='Excess Iodine Availability', type='Cause'), type='CAUSES'), Relationship(source=Node(id='Hyperthyroidism', type='Medicalcondition'), target=Node(id='Amiodarone', type='Cause'), type='CAUSES'), Relationship(source=Node(id='Hyperthyroidism', type='Medicalcondition'), target=Node(id='Iodinated Contrast Imaging', type='Cause'), type='CAUSES'), Relationship(source=Node(id='Hyperthyroidism', type='Medicalcondition'), target=Node(id='Weight Loss', type='Symptom'), type='HAS_SYMPTOM'), Relationship(source=Node(id='Hyperthyroidism', type='Medicalcondition'), target=Node(id='Increased Appetite', type='Symptom'), type='HAS_SYMPTOM'), Relationship(source=Node(id='Hyperthyroidism', type='Medicalcondition'), target=Node(id='Insomnia', type='Symptom'), type='HAS_SYMPTOM'), Relationship(source=Node(id='Hyperthyroidism', type='Medicalcondition'), target=Node(id='Decreased Tolerance Of Heat', type='Symptom'), type='HAS_SYMPTOM'), Relationship(source=Node(id='Hyperthyroidism', type='Medicalcondition'), target=Node(id='Tremor', type='Symptom'), type='HAS_SYMPTOM'), Relationship(source=Node(id='Hyperthyroidism', type='Medicalcondition'), target=Node(id='Palpitations', type='Symptom'), type='HAS_SYMPTOM'), Relationship(source=Node(id='Hyperthyroidism', type='Medicalcondition'), target=Node(id='Anxiety', type='Symptom'), type='HAS_SYMPTOM'), Relationship(source=Node(id='Hyperthyroidism', type='Medicalcondition'), target=Node(id='Nervousness', type='Symptom'), type='HAS_SYMPTOM'), Relationship(source=Node(id='Hyperthyroidism', type='Medicalcondition'), target=Node(id='Chest Pain', type='Symptom'), type='HAS_SYMPTOM'), Relationship(source=Node(id='Hyperthyroidism', type='Medicalcondition'), target=Node(id='Diarrhoea', type='Symptom'), type='HAS_SYMPTOM'), Relationship(source=Node(id='Hyperthyroidism', type='Medicalcondition'), target=Node(id='Hair Loss', type='Symptom'), type='HAS_SYMPTOM'), Relationship(source=Node(id='Hyperthyroidism', type='Medicalcondition'), target=Node(id='Muscle Weakness', type='Symptom'), type='HAS_SYMPTOM'), Relationship(source=Node(id='Hyperthyroidism', type='Medicalcondition'), target=Node(id='Beta Blockers', type='Treatment'), type='HAS_TREATMENT'), Relationship(source=Node(id='Hyperthyroidism', type='Medicalcondition'), target=Node(id='Propylthiouracil', type='Treatment'), type='HAS_TREATMENT'), Relationship(source=Node(id='Hyperthyroidism', type='Medicalcondition'), target=Node(id='Carbimazole', type='Treatment'), type='HAS_TREATMENT'), Relationship(source=Node(id='Hyperthyroidism', type='Medicalcondition'), target=Node(id='Methimazole', type='Treatment'), type='HAS_TREATMENT'), Relationship(source=Node(id='Hyperthyroidism', type='Medicalcondition'), target=Node(id='Radioactive Iodine-131', type='Treatment'), type='HAS_TREATMENT'), Relationship(source=Node(id='Hyperthyroidism', type='Medicalcondition'), target=Node(id='Thyroid Tissue', type='Medicalcondition'), type='CAUSES'), Relationship(source=Node(id='Hyperthyroidism', type='Medicalcondition'), target=Node(id='Thyroid Cells', type='Medicalcondition'), type='CAUSES'), Relationship(source=Node(id='Hyperthyroidism', type='Medicalcondition'), target=Node(id='Surgery', type='Treatment'), type='HAS_TREATMENT'), Relationship(source=Node(id='Hyperthyroidism', type='Medicalcondition'), target=Node(id='Transoral Thyroidectomy', type='Treatment'), type='HAS_TREATMENT'), Relationship(source=Node(id='Hyperthyroidism', type='Medicalcondition'), target=Node(id='Parathyroid Glands', type='Medicalcondition'), type='CAUSES'), Relationship(source=Node(id='Hyperthyroidism', type='Medicalcondition'), target=Node(id='Recurrent Laryngeal Nerve', type='Medicalcondition'), type='CAUSES'), Relationship(source=Node(id='Hyperthyroidism', type='Medicalcondition'), target=Node(id='Hypothyroidism', type='Medicalcondition'), type='CAUSES'), Relationship(source=Node(id='Hyperthyroidism', type='Medicalcondition'), target=Node(id='Thyroid Hormone Substitutes', type='Treatment'), type='HAS_TREATMENT')]\n"
          ]
        }
      ]
    },
    {
      "cell_type": "code",
      "source": [
        "for node in graph_documents_props[0].nodes:\n",
        "    print(node)"
      ],
      "metadata": {
        "colab": {
          "base_uri": "https://localhost:8080/"
        },
        "id": "QUpL3glu3p9a",
        "outputId": "618fda06-7c29-42a5-ded3-5c13cb25c78e"
      },
      "execution_count": null,
      "outputs": [
        {
          "output_type": "stream",
          "name": "stdout",
          "text": [
            "id='Hyperthyroidism' type='Medicalcondition'\n",
            "id=\"Graves' Disease\" type='Cause'\n",
            "id='Toxic Multinodular Goitre' type='Cause'\n",
            "id='Solitary Thyroid Adenoma' type='Cause'\n",
            "id='Inflammation' type='Cause'\n",
            "id='Pituitary Adenoma' type='Cause'\n",
            "id='Excess Iodine Availability' type='Cause'\n",
            "id='Amiodarone' type='Cause'\n",
            "id='Iodinated Contrast Imaging' type='Cause'\n",
            "id='Weight Loss' type='Symptom'\n",
            "id='Increased Appetite' type='Symptom'\n",
            "id='Insomnia' type='Symptom'\n",
            "id='Decreased Tolerance Of Heat' type='Symptom'\n",
            "id='Tremor' type='Symptom'\n",
            "id='Palpitations' type='Symptom'\n",
            "id='Anxiety' type='Symptom'\n",
            "id='Nervousness' type='Symptom'\n",
            "id='Chest Pain' type='Symptom'\n",
            "id='Diarrhoea' type='Symptom'\n",
            "id='Hair Loss' type='Symptom'\n",
            "id='Muscle Weakness' type='Symptom'\n",
            "id='Beta Blockers' type='Treatment'\n",
            "id='Propylthiouracil' type='Treatment'\n",
            "id='Carbimazole' type='Treatment'\n",
            "id='Methimazole' type='Treatment'\n",
            "id='Radioactive Iodine-131' type='Treatment'\n",
            "id='Thyroid Tissue' type='Medicalcondition'\n",
            "id='Thyroid Cells' type='Medicalcondition'\n",
            "id='Surgery' type='Treatment'\n",
            "id='Transoral Thyroidectomy' type='Treatment'\n",
            "id='Parathyroid Glands' type='Medicalcondition'\n",
            "id='Recurrent Laryngeal Nerve' type='Medicalcondition'\n",
            "id='Hypothyroidism' type='Medicalcondition'\n",
            "id='Thyroid Hormone Substitutes' type='Treatment'\n"
          ]
        }
      ]
    },
    {
      "cell_type": "code",
      "source": [
        "for relationship in graph_documents_props[0].relationships:\n",
        "    print(relationship)"
      ],
      "metadata": {
        "colab": {
          "base_uri": "https://localhost:8080/"
        },
        "id": "VgJasCLC3p_8",
        "outputId": "bfbe06dd-6270-44d0-9d93-e78ee75b1569"
      },
      "execution_count": null,
      "outputs": [
        {
          "output_type": "stream",
          "name": "stdout",
          "text": [
            "source=Node(id='Hyperthyroidism', type='Medicalcondition') target=Node(id=\"Graves' Disease\", type='Cause') type='CAUSES'\n",
            "source=Node(id='Hyperthyroidism', type='Medicalcondition') target=Node(id='Toxic Multinodular Goitre', type='Cause') type='CAUSES'\n",
            "source=Node(id='Hyperthyroidism', type='Medicalcondition') target=Node(id='Solitary Thyroid Adenoma', type='Cause') type='CAUSES'\n",
            "source=Node(id='Hyperthyroidism', type='Medicalcondition') target=Node(id='Inflammation', type='Cause') type='CAUSES'\n",
            "source=Node(id='Hyperthyroidism', type='Medicalcondition') target=Node(id='Pituitary Adenoma', type='Cause') type='CAUSES'\n",
            "source=Node(id='Hyperthyroidism', type='Medicalcondition') target=Node(id='Excess Iodine Availability', type='Cause') type='CAUSES'\n",
            "source=Node(id='Hyperthyroidism', type='Medicalcondition') target=Node(id='Amiodarone', type='Cause') type='CAUSES'\n",
            "source=Node(id='Hyperthyroidism', type='Medicalcondition') target=Node(id='Iodinated Contrast Imaging', type='Cause') type='CAUSES'\n",
            "source=Node(id='Hyperthyroidism', type='Medicalcondition') target=Node(id='Weight Loss', type='Symptom') type='HAS_SYMPTOM'\n",
            "source=Node(id='Hyperthyroidism', type='Medicalcondition') target=Node(id='Increased Appetite', type='Symptom') type='HAS_SYMPTOM'\n",
            "source=Node(id='Hyperthyroidism', type='Medicalcondition') target=Node(id='Insomnia', type='Symptom') type='HAS_SYMPTOM'\n",
            "source=Node(id='Hyperthyroidism', type='Medicalcondition') target=Node(id='Decreased Tolerance Of Heat', type='Symptom') type='HAS_SYMPTOM'\n",
            "source=Node(id='Hyperthyroidism', type='Medicalcondition') target=Node(id='Tremor', type='Symptom') type='HAS_SYMPTOM'\n",
            "source=Node(id='Hyperthyroidism', type='Medicalcondition') target=Node(id='Palpitations', type='Symptom') type='HAS_SYMPTOM'\n",
            "source=Node(id='Hyperthyroidism', type='Medicalcondition') target=Node(id='Anxiety', type='Symptom') type='HAS_SYMPTOM'\n",
            "source=Node(id='Hyperthyroidism', type='Medicalcondition') target=Node(id='Nervousness', type='Symptom') type='HAS_SYMPTOM'\n",
            "source=Node(id='Hyperthyroidism', type='Medicalcondition') target=Node(id='Chest Pain', type='Symptom') type='HAS_SYMPTOM'\n",
            "source=Node(id='Hyperthyroidism', type='Medicalcondition') target=Node(id='Diarrhoea', type='Symptom') type='HAS_SYMPTOM'\n",
            "source=Node(id='Hyperthyroidism', type='Medicalcondition') target=Node(id='Hair Loss', type='Symptom') type='HAS_SYMPTOM'\n",
            "source=Node(id='Hyperthyroidism', type='Medicalcondition') target=Node(id='Muscle Weakness', type='Symptom') type='HAS_SYMPTOM'\n",
            "source=Node(id='Hyperthyroidism', type='Medicalcondition') target=Node(id='Beta Blockers', type='Treatment') type='HAS_TREATMENT'\n",
            "source=Node(id='Hyperthyroidism', type='Medicalcondition') target=Node(id='Propylthiouracil', type='Treatment') type='HAS_TREATMENT'\n",
            "source=Node(id='Hyperthyroidism', type='Medicalcondition') target=Node(id='Carbimazole', type='Treatment') type='HAS_TREATMENT'\n",
            "source=Node(id='Hyperthyroidism', type='Medicalcondition') target=Node(id='Methimazole', type='Treatment') type='HAS_TREATMENT'\n",
            "source=Node(id='Hyperthyroidism', type='Medicalcondition') target=Node(id='Radioactive Iodine-131', type='Treatment') type='HAS_TREATMENT'\n",
            "source=Node(id='Hyperthyroidism', type='Medicalcondition') target=Node(id='Thyroid Tissue', type='Medicalcondition') type='CAUSES'\n",
            "source=Node(id='Hyperthyroidism', type='Medicalcondition') target=Node(id='Thyroid Cells', type='Medicalcondition') type='CAUSES'\n",
            "source=Node(id='Hyperthyroidism', type='Medicalcondition') target=Node(id='Surgery', type='Treatment') type='HAS_TREATMENT'\n",
            "source=Node(id='Hyperthyroidism', type='Medicalcondition') target=Node(id='Transoral Thyroidectomy', type='Treatment') type='HAS_TREATMENT'\n",
            "source=Node(id='Hyperthyroidism', type='Medicalcondition') target=Node(id='Parathyroid Glands', type='Medicalcondition') type='CAUSES'\n",
            "source=Node(id='Hyperthyroidism', type='Medicalcondition') target=Node(id='Recurrent Laryngeal Nerve', type='Medicalcondition') type='CAUSES'\n",
            "source=Node(id='Hyperthyroidism', type='Medicalcondition') target=Node(id='Hypothyroidism', type='Medicalcondition') type='CAUSES'\n",
            "source=Node(id='Hyperthyroidism', type='Medicalcondition') target=Node(id='Thyroid Hormone Substitutes', type='Treatment') type='HAS_TREATMENT'\n"
          ]
        }
      ]
    },
    {
      "cell_type": "code",
      "source": [
        "graph = Neo4jGraph()\n",
        "graph.add_graph_documents(graph_documents_props)"
      ],
      "metadata": {
        "id": "AY-rFgwd5vDq"
      },
      "execution_count": null,
      "outputs": []
    },
    {
      "cell_type": "markdown",
      "source": [
        "# Retrieval"
      ],
      "metadata": {
        "id": "ru1l4A3Q3hd3"
      }
    },
    {
      "cell_type": "code",
      "source": [
        "from langchain.chains import GraphCypherQAChain\n",
        "from langchain_openai import ChatOpenAI"
      ],
      "metadata": {
        "id": "-13-eza8bWL5"
      },
      "execution_count": null,
      "outputs": []
    },
    {
      "cell_type": "code",
      "source": [
        "# Define the Neo4jGraph object\n",
        "graph = Neo4jGraph()\n",
        "\n",
        "# Define the GraphCypherQAChain\n",
        "chain = GraphCypherQAChain.from_llm(\n",
        "    cypher_llm=ChatOpenAI(temperature=0, model_name=\"gpt-4-turbo-2024-04-09\"),\n",
        "    qa_llm=ChatOpenAI(temperature=0, model_name=\"gpt-3.5-turbo\"),\n",
        "    graph=graph,\n",
        "    verbose=True,\n",
        "    allowed_nodes=[\"MedicalCondition\", \"Symptom\", \"Cause\", \"Treatment\"],\n",
        "    allowed_relationships=[\"CAUSES\", \"HAS_SYMPTOM\", \"HAS_TREATMENT\"],\n",
        ")\n"
      ],
      "metadata": {
        "id": "BW-8PjxZ7vKt"
      },
      "execution_count": null,
      "outputs": []
    },
    {
      "cell_type": "code",
      "source": [
        "query = \"What are the Symptom of Hyperthyroidism?\"\n",
        "response = chain.run(query)\n",
        "print(response)"
      ],
      "metadata": {
        "colab": {
          "base_uri": "https://localhost:8080/"
        },
        "id": "XGb6n0mNYgA1",
        "outputId": "285318e5-45e2-4ab9-a8e1-6c171d85a68a"
      },
      "execution_count": null,
      "outputs": [
        {
          "output_type": "stream",
          "name": "stdout",
          "text": [
            "\n",
            "\n",
            "\u001b[1m> Entering new GraphCypherQAChain chain...\u001b[0m\n",
            "Generated Cypher:\n",
            "\u001b[32;1m\u001b[1;3mcypher\n",
            "MATCH (c:Condition {id: \"Hyperthyroidism\"})-[:CAUSE]->(s:Symptom)\n",
            "RETURN s.id AS SymptomID\n",
            "\u001b[0m\n",
            "Full Context:\n",
            "\u001b[32;1m\u001b[1;3m[{'SymptomID': 'Non-Specific Symptoms'}, {'SymptomID': 'Weight Loss'}, {'SymptomID': 'Increased Appetite'}, {'SymptomID': 'Insomnia'}, {'SymptomID': 'Decreased Tolerance Of Heat'}, {'SymptomID': 'Tremor'}, {'SymptomID': 'Palpitations'}, {'SymptomID': 'Anxiety'}, {'SymptomID': 'Nervousness'}, {'SymptomID': 'Chest Pain'}]\u001b[0m\n",
            "\n",
            "\u001b[1m> Finished chain.\u001b[0m\n",
            "Non-Specific Symptoms, Weight Loss, Increased Appetite, Insomnia, Decreased Tolerance Of Heat, Tremor, Palpitations, Anxiety, Nervousness, Chest Pain.\n"
          ]
        }
      ]
    },
    {
      "cell_type": "code",
      "source": [
        "query = \"What are the Treatment of Hyperthyroidism?\"\n",
        "# prompt = generate_prompt(query)\n",
        "response = chain.run(query)\n",
        "print(response)"
      ],
      "metadata": {
        "colab": {
          "base_uri": "https://localhost:8080/"
        },
        "id": "eaVJQaIsegwc",
        "outputId": "44531963-0f07-4782-c42a-c69e52ad40c2"
      },
      "execution_count": null,
      "outputs": [
        {
          "output_type": "stream",
          "name": "stdout",
          "text": [
            "\n",
            "\n",
            "\u001b[1m> Entering new GraphCypherQAChain chain...\u001b[0m\n",
            "Generated Cypher:\n",
            "\u001b[32;1m\u001b[1;3mcypher\n",
            "MATCH (:Condition {id: \"Hyperthyroidism\"})-[:CAUSE]->(t:Treatment)\n",
            "RETURN t.id\n",
            "\u001b[0m\n",
            "Full Context:\n",
            "\u001b[32;1m\u001b[1;3m[{'t.id': 'Radioactive Iodine-131'}]\u001b[0m\n",
            "\n",
            "\u001b[1m> Finished chain.\u001b[0m\n",
            "I don't know the answer.\n"
          ]
        }
      ]
    }
  ]
}