{
  "nbformat": 4,
  "nbformat_minor": 0,
  "metadata": {
    "colab": {
      "provenance": []
    },
    "kernelspec": {
      "name": "python3",
      "display_name": "Python 3"
    },
    "language_info": {
      "name": "python"
    }
  },
  "cells": [
    {
      "cell_type": "code",
      "execution_count": 20,
      "metadata": {
        "id": "cEujE_5r_h2u"
      },
      "outputs": [],
      "source": [
        "%%capture\n",
        "!pip install scrapegraphai\n",
        "!pip install nest_asyncio\n",
        "!pip install playwright\n",
        "!playwright install"
      ]
    },
    {
      "cell_type": "code",
      "source": [
        "import nest_asyncio\n",
        "nest_asyncio.apply()"
      ],
      "metadata": {
        "id": "zpcfaNNj_4Ln"
      },
      "execution_count": 6,
      "outputs": []
    },
    {
      "cell_type": "code",
      "source": [
        "from scrapegraphai.graphs import SmartScraperGraph, SmartScraperMultiGraph\n",
        "import pandas as pd\n",
        "\n",
        "OPENAI_API_KEY = \"sk-W8gE.........\"\n",
        "\n",
        "graph_config = {\n",
        "    \"llm\": {\n",
        "        \"api_key\": OPENAI_API_KEY,\n",
        "        \"model\": \"gpt-4o\",\n",
        "        \"temperature\":0,\n",
        "    },\n",
        "    \"verbose\":True,\n",
        "    \"headless\":True,\n",
        "}"
      ],
      "metadata": {
        "id": "bL9LUZE__4OX"
      },
      "execution_count": 2,
      "outputs": []
    },
    {
      "cell_type": "code",
      "source": [
        "def main_Scrapper(url, graph_config):\n",
        "  scraper = SmartScraperGraph(\n",
        "      prompt=\"Scrape the website with this format: title, published_datetime, descriptions, severity, latitude, longitude, country, event type, read_More\",\n",
        "      source=url,\n",
        "      config=graph_config\n",
        "  )\n",
        "  data = scraper.run()  # Run the scraper and capture the output directly within the function\n",
        "  return data"
      ],
      "metadata": {
        "id": "ocCN7TKp_59x"
      },
      "execution_count": 15,
      "outputs": []
    },
    {
      "cell_type": "code",
      "source": [
        "url='https://www.gdacs.org/report.aspx?eventtype=EQ&eventid=306&episodeid=306'\n",
        "\n",
        "data = main_Scrapper(url, graph_config)\n",
        "print(data)"
      ],
      "metadata": {
        "colab": {
          "base_uri": "https://localhost:8080/"
        },
        "id": "JYhSyKJP_8Ax",
        "outputId": "c41bfee9-0b99-49ef-879e-c027ff2d549f"
      },
      "execution_count": 18,
      "outputs": [
        {
          "output_type": "stream",
          "name": "stderr",
          "text": [
            "--- Executing Fetch Node ---\n",
            "--- (Fetching HTML from: https://www.gdacs.org/report.aspx?eventtype=EQ&eventid=306&episodeid=306) ---\n",
            "--- Executing Parse Node ---\n",
            "--- Executing RAG Node ---\n",
            "--- (updated chunks metadata) ---\n",
            "--- (tokens compressed and vector stored) ---\n",
            "--- Executing GenerateAnswer Node ---\n",
            "Processing chunks: 100%|██████████| 1/1 [00:02<00:00,  2.96s/it]"
          ]
        },
        {
          "output_type": "stream",
          "name": "stdout",
          "text": [
            "{'title': 'Overall Green Earthquake alert Off-shore on 13 Sep 2002 14:59 UTC', 'published_datetime': '13 Sep 2002 14:59 UTC', 'descriptions': 'This earthquake can have a low humanitarian impact based on the magnitude and the affected population and their vulnerability.', 'severity': 'Green', 'latitude': '48.61', 'longitude': '-121.98', 'country': 'NA', 'event_type': 'Earthquake', 'read_More': 'https://www.gdacs.org/report.aspx?eventtype=EQ&eventid=306&episodeid=306'}\n"
          ]
        },
        {
          "output_type": "stream",
          "name": "stderr",
          "text": [
            "\n"
          ]
        }
      ]
    },
    {
      "cell_type": "code",
      "source": [
        "data"
      ],
      "metadata": {
        "colab": {
          "base_uri": "https://localhost:8080/"
        },
        "id": "9gf0Y3StLimG",
        "outputId": "443c95ba-7c10-40eb-963a-f8487476452e"
      },
      "execution_count": 19,
      "outputs": [
        {
          "output_type": "execute_result",
          "data": {
            "text/plain": [
              "{'title': 'Overall Green Earthquake alert Off-shore on 13 Sep 2002 14:59 UTC',\n",
              " 'published_datetime': '13 Sep 2002 14:59 UTC',\n",
              " 'descriptions': 'This earthquake can have a low humanitarian impact based on the magnitude and the affected population and their vulnerability.',\n",
              " 'severity': 'Green',\n",
              " 'latitude': '48.61',\n",
              " 'longitude': '-121.98',\n",
              " 'country': 'NA',\n",
              " 'event_type': 'Earthquake',\n",
              " 'read_More': 'https://www.gdacs.org/report.aspx?eventtype=EQ&eventid=306&episodeid=306'}"
            ]
          },
          "metadata": {},
          "execution_count": 19
        }
      ]
    }
  ]
}