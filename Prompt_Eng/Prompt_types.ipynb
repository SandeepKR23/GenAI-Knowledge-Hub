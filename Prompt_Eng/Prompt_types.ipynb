{
 "cells": [
  {
   "cell_type": "code",
   "execution_count": 1,
   "metadata": {},
   "outputs": [
    {
     "name": "stderr",
     "output_type": "stream",
     "text": [
      "\n",
      "[notice] A new release of pip is available: 24.2 -> 24.3.1\n",
      "[notice] To update, run: python.exe -m pip install --upgrade pip\n"
     ]
    }
   ],
   "source": [
    "!pip install -q openai"
   ]
  },
  {
   "cell_type": "code",
   "execution_count": 2,
   "metadata": {},
   "outputs": [],
   "source": [
    "from openai import OpenAI\n",
    "import os\n",
    "\n",
    "# DeepInfra api key: https://deepinfra.com/microsoft/WizardLM-2-8x22B\n",
    "def load_model():\n",
    "    client = OpenAI(\n",
    "        api_key=\"6WfiI\",\n",
    "        base_url=\"https://api.deepinfra.com/v1/openai\",\n",
    "    )\n",
    "    return client\n",
    "\n",
    "client = load_model()\n",
    "model_name=\"microsoft/WizardLM-2-8x22B\""
   ]
  },
  {
   "cell_type": "code",
   "execution_count": 12,
   "metadata": {},
   "outputs": [],
   "source": [
    "class PromptTemplateGenerator:\n",
    "    @staticmethod\n",
    "    def generate_zero_shot_summary_prompt(text):\n",
    "        return f\"\"\"\n",
    "        Summarize the following text in a clear and concise manner.\n",
    "\n",
    "        Text:\n",
    "        {text}\n",
    "        \"\"\"\n",
    "\n",
    "    @staticmethod\n",
    "    def generate_one_shot_summary_prompt(text):\n",
    "        return f\"\"\"\n",
    "        Summarize the text based on this example:\n",
    "\n",
    "        Example:\n",
    "        Original: \"Artificial intelligence is rapidly transforming various industries, from healthcare to finance. Machine learning algorithms can now diagnose diseases, predict market trends, and automate complex tasks.\"\n",
    "        Summary: AI is revolutionizing multiple sectors by enabling advanced diagnostic, predictive, and automation capabilities.\n",
    "\n",
    "        Now summarize this text:\n",
    "        {text}\n",
    "        \"\"\"\n",
    "\n",
    "    @staticmethod\n",
    "    def generate_few_shot_summary_prompt(text):\n",
    "        return f\"\"\"\n",
    "        Summarize the text based on these examples:\n",
    "\n",
    "        Example 1:\n",
    "        Original: \"Artificial intelligence is rapidly transforming various industries, from healthcare to finance. Machine learning algorithms can now diagnose diseases, predict market trends, and automate complex tasks.\"\n",
    "        Summary: AI is revolutionizing multiple sectors by enabling advanced diagnostic, predictive, and automation capabilities.\n",
    "\n",
    "        Example 2:\n",
    "        Original: \"Climate change poses significant challenges to global ecosystems. Rising temperatures are causing polar ice caps to melt, sea levels to rise, and extreme weather events to become more frequent.\"\n",
    "        Summary: Climate change is threatening global environments through rising temperatures, melting ice caps, sea level increases, and more frequent extreme weather.\n",
    "\n",
    "        Now summarize this text:\n",
    "        {text}\n",
    "        \"\"\"\n",
    "\n",
    "    @staticmethod\n",
    "    def generate_chain_of_thought_summary_prompt(text):\n",
    "        return f\"\"\"\n",
    "        Let's summarize this text step by step:\n",
    "\n",
    "        Text:\n",
    "        {text}\n",
    "\n",
    "        Reasoning Process:\n",
    "        1. Initial Comprehension:\n",
    "        - What is the main topic of the text?\n",
    "        - What are the key points?\n",
    "\n",
    "        2. Identify Core Ideas:\n",
    "        - List the most important concepts.\n",
    "        - Determine the primary message.\n",
    "\n",
    "        3. Synthesis:\n",
    "        - Combine key points into a coherent overview.\n",
    "        - Ensure the summary captures the essence of the original text.\n",
    "\n",
    "        4. Conciseness Check:\n",
    "        - Verify the summary is within 2-3 sentences.\n",
    "        - Eliminate any redundant phrases.\n",
    "        - Ensure key points are preserved.\n",
    "        - Remove unnecessary adjectives or adverbs.\n",
    "\n",
    "        Structured Summary:\n",
    "        \"\"\"\n",
    "\n",
    "    @staticmethod\n",
    "    def generate_role_based_summary_prompt(text):\n",
    "        return f\"\"\"\n",
    "        As a content summarization expert, generate a concise and accurate summary of the following text. Focus on the main topic, key points, and primary message. Avoid including minor details or subjective interpretations.\n",
    "\n",
    "        Text:\n",
    "        {text}\n",
    "\n",
    "        Instructions:\n",
    "        - Identify the central theme.\n",
    "        - Highlight only the core ideas.\n",
    "        - Present the summary in a single, clear paragraph.\n",
    "\n",
    "        Your Summary:\n",
    "        \"\"\""
   ]
  },
  {
   "cell_type": "code",
   "execution_count": 13,
   "metadata": {},
   "outputs": [],
   "source": [
    "def process_text(text, prompt_type, temperature=0.1):\n",
    "    if prompt_type == \"zero_shot\":\n",
    "        message_content = PromptTemplateGenerator.generate_zero_shot_summary_prompt(text)\n",
    "    elif prompt_type == \"one_shot\":\n",
    "        message_content = PromptTemplateGenerator.generate_one_shot_summary_prompt(text)\n",
    "    elif prompt_type == \"few_shot\":\n",
    "        message_content = PromptTemplateGenerator.generate_few_shot_summary_prompt(text)\n",
    "    elif prompt_type == \"chain_of_thought\":\n",
    "        message_content = PromptTemplateGenerator.generate_chain_of_thought_summary_prompt(text)\n",
    "    elif prompt_type == \"role_based\":\n",
    "        message_content = PromptTemplateGenerator.generate_role_based_summary_prompt(text)\n",
    "    else:\n",
    "        raise ValueError(f\"Unknown prompt type: {prompt_type}\")\n",
    "    \n",
    "    response = client.chat.completions.create(\n",
    "        model= model_name,\n",
    "        messages=[{\"role\": \"user\", \"content\": message_content}],\n",
    "        temperature=temperature,\n",
    "        max_tokens=256,\n",
    "    )\n",
    "    generated_text = response.choices[0].message.content\n",
    "    return generated_text"
   ]
  },
  {
   "cell_type": "code",
   "execution_count": 25,
   "metadata": {},
   "outputs": [],
   "source": [
    "text = \"\"\"\n",
    "Quantum computing is an area of computing focused on developing computers based on the principles of quantum theory. \n",
    "This theory explains the behavior of energy and material on atomic and subatomic levels. Quantum computing uses \n",
    "quantum bits, or qubits, which allow for a state of superposition, enabling them to perform computations at \n",
    "incredible speeds compared to classical computers. Researchers believe that quantum computing could solve \n",
    "complex problems much faster than today's classical computers, particularly in fields like cryptography, \n",
    "material science, and artificial intelligence.\n",
    "\"\"\""
   ]
  },
  {
   "cell_type": "code",
   "execution_count": 20,
   "metadata": {},
   "outputs": [
    {
     "name": "stdout",
     "output_type": "stream",
     "text": [
      " Quantum computing harnesses quantum theory to process information at the atomic and subatomic levels using quantum bits (qubits). Unlike classical computers, qubits can exist in multiple states simultaneously (superposition), allowing for significantly faster computations. This advanced technology has the potential to revolutionize fields such as cryptography, material science, and artificial intelligence by solving complex problems more efficiently than current computers.\n"
     ]
    }
   ],
   "source": [
    "result = process_text(text, \"zero_shot\")\n",
    "print(result)"
   ]
  },
  {
   "cell_type": "code",
   "execution_count": 21,
   "metadata": {},
   "outputs": [
    {
     "name": "stdout",
     "output_type": "stream",
     "text": [
      " Quantum computing harnesses quantum theory to process information at unprecedented speeds using qubits in superposition, offering potential breakthroughs in cryptography, material science, and AI by solving complex problems faster than classical computers.\n"
     ]
    }
   ],
   "source": [
    "result = process_text(text, \"one_shot\")\n",
    "print(result)"
   ]
  },
  {
   "cell_type": "code",
   "execution_count": 22,
   "metadata": {},
   "outputs": [
    {
     "name": "stdout",
     "output_type": "stream",
     "text": [
      " Quantum computing harnesses quantum theory to process information at unprecedented speeds using qubits in superposition, offering potential breakthroughs in solving complex problems across cryptography, material science, and AI, far exceeding classical computer capabilities.\n"
     ]
    }
   ],
   "source": [
    "result = process_text(text, \"few_shot\")\n",
    "print(result)"
   ]
  },
  {
   "cell_type": "code",
   "execution_count": 23,
   "metadata": {},
   "outputs": [
    {
     "name": "stdout",
     "output_type": "stream",
     "text": [
      " Structured Summary:\n",
      "\n",
      "Quantum computing represents a revolutionary approach to computation, leveraging the principles of quantum theory to process information at the atomic and subatomic levels. This field centers on the use of qubits, which can exist in multiple states simultaneously, vastly increasing computational efficiency. Quantum computers hold the promise of tackling intricate problems across various domains, including cryptography, material science, and AI, at speeds unattainable by classical computers. The primary message of the text is that quantum computing, by harnessing the unique properties of quantum mechanics, has the potential to transform the landscape of computation and solve problems that are currently intractable for classical systems.\n"
     ]
    }
   ],
   "source": [
    "result = process_text(text, \"chain_of_thought\")\n",
    "print(result)"
   ]
  },
  {
   "cell_type": "code",
   "execution_count": 24,
   "metadata": {},
   "outputs": [
    {
     "name": "stdout",
     "output_type": "stream",
     "text": [
      " Quantum computing represents a revolutionary approach to computation that leverages the principles of quantum theory to process information at the atomic and subatomic levels. Unlike classical computers, quantum computers utilize qubits, which can exist in multiple states simultaneously—a phenomenon known as superposition—enabling them to execute complex calculations at unprecedented speeds. This advanced computational capability holds the promise of significantly accelerating problem-solving in various domains, including cryptography, material science, and artificial intelligence, where classical computers face substantial limitations.\n"
     ]
    }
   ],
   "source": [
    "result = process_text(text, \"role_based\")\n",
    "print(result)"
   ]
  }
 ],
 "metadata": {
  "kernelspec": {
   "display_name": "testingP10",
   "language": "python",
   "name": "python3"
  },
  "language_info": {
   "codemirror_mode": {
    "name": "ipython",
    "version": 3
   },
   "file_extension": ".py",
   "mimetype": "text/x-python",
   "name": "python",
   "nbconvert_exporter": "python",
   "pygments_lexer": "ipython3",
   "version": "3.10.14"
  }
 },
 "nbformat": 4,
 "nbformat_minor": 2
}
